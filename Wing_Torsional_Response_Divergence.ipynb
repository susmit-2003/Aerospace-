{
  "nbformat": 4,
  "nbformat_minor": 0,
  "metadata": {
    "colab": {
      "provenance": []
    },
    "kernelspec": {
      "name": "python3",
      "display_name": "Python 3"
    },
    "language_info": {
      "name": "python"
    },
    "widgets": {
      "application/vnd.jupyter.widget-state+json": {
        "4898a689f55f4e139641f5fd3fa0d5e1": {
          "model_module": "@jupyter-widgets/controls",
          "model_name": "VBoxModel",
          "model_module_version": "1.5.0",
          "state": {
            "_dom_classes": [
              "widget-interact"
            ],
            "_model_module": "@jupyter-widgets/controls",
            "_model_module_version": "1.5.0",
            "_model_name": "VBoxModel",
            "_view_count": null,
            "_view_module": "@jupyter-widgets/controls",
            "_view_module_version": "1.5.0",
            "_view_name": "VBoxView",
            "box_style": "",
            "children": [
              "IPY_MODEL_9bd884f206764c638d8bcc1d631e89d6",
              "IPY_MODEL_f50bfee35da04c56af4a5766f6b868de"
            ],
            "layout": "IPY_MODEL_666ae133419e426eb98bf293556daa75"
          }
        },
        "9bd884f206764c638d8bcc1d631e89d6": {
          "model_module": "@jupyter-widgets/controls",
          "model_name": "IntSliderModel",
          "model_module_version": "1.5.0",
          "state": {
            "_dom_classes": [],
            "_model_module": "@jupyter-widgets/controls",
            "_model_module_version": "1.5.0",
            "_model_name": "IntSliderModel",
            "_view_count": null,
            "_view_module": "@jupyter-widgets/controls",
            "_view_module_version": "1.5.0",
            "_view_name": "IntSliderView",
            "continuous_update": true,
            "description": "v",
            "description_tooltip": null,
            "disabled": false,
            "layout": "IPY_MODEL_0bedafabd79c4c12a0eebb96bded486f",
            "max": 10,
            "min": 0,
            "orientation": "horizontal",
            "readout": true,
            "readout_format": "d",
            "step": 1,
            "style": "IPY_MODEL_6e3f86cae8184881be87176a1c263359",
            "value": 1
          }
        },
        "f50bfee35da04c56af4a5766f6b868de": {
          "model_module": "@jupyter-widgets/output",
          "model_name": "OutputModel",
          "model_module_version": "1.0.0",
          "state": {
            "_dom_classes": [],
            "_model_module": "@jupyter-widgets/output",
            "_model_module_version": "1.0.0",
            "_model_name": "OutputModel",
            "_view_count": null,
            "_view_module": "@jupyter-widgets/output",
            "_view_module_version": "1.0.0",
            "_view_name": "OutputView",
            "layout": "IPY_MODEL_789b0cae004a47d1bddec2a5995ce4de",
            "msg_id": "",
            "outputs": []
          }
        },
        "666ae133419e426eb98bf293556daa75": {
          "model_module": "@jupyter-widgets/base",
          "model_name": "LayoutModel",
          "model_module_version": "1.2.0",
          "state": {
            "_model_module": "@jupyter-widgets/base",
            "_model_module_version": "1.2.0",
            "_model_name": "LayoutModel",
            "_view_count": null,
            "_view_module": "@jupyter-widgets/base",
            "_view_module_version": "1.2.0",
            "_view_name": "LayoutView",
            "align_content": null,
            "align_items": null,
            "align_self": null,
            "border": null,
            "bottom": null,
            "display": null,
            "flex": null,
            "flex_flow": null,
            "grid_area": null,
            "grid_auto_columns": null,
            "grid_auto_flow": null,
            "grid_auto_rows": null,
            "grid_column": null,
            "grid_gap": null,
            "grid_row": null,
            "grid_template_areas": null,
            "grid_template_columns": null,
            "grid_template_rows": null,
            "height": null,
            "justify_content": null,
            "justify_items": null,
            "left": null,
            "margin": null,
            "max_height": null,
            "max_width": null,
            "min_height": null,
            "min_width": null,
            "object_fit": null,
            "object_position": null,
            "order": null,
            "overflow": null,
            "overflow_x": null,
            "overflow_y": null,
            "padding": null,
            "right": null,
            "top": null,
            "visibility": null,
            "width": null
          }
        },
        "0bedafabd79c4c12a0eebb96bded486f": {
          "model_module": "@jupyter-widgets/base",
          "model_name": "LayoutModel",
          "model_module_version": "1.2.0",
          "state": {
            "_model_module": "@jupyter-widgets/base",
            "_model_module_version": "1.2.0",
            "_model_name": "LayoutModel",
            "_view_count": null,
            "_view_module": "@jupyter-widgets/base",
            "_view_module_version": "1.2.0",
            "_view_name": "LayoutView",
            "align_content": null,
            "align_items": null,
            "align_self": null,
            "border": null,
            "bottom": null,
            "display": null,
            "flex": null,
            "flex_flow": null,
            "grid_area": null,
            "grid_auto_columns": null,
            "grid_auto_flow": null,
            "grid_auto_rows": null,
            "grid_column": null,
            "grid_gap": null,
            "grid_row": null,
            "grid_template_areas": null,
            "grid_template_columns": null,
            "grid_template_rows": null,
            "height": null,
            "justify_content": null,
            "justify_items": null,
            "left": null,
            "margin": null,
            "max_height": null,
            "max_width": null,
            "min_height": null,
            "min_width": null,
            "object_fit": null,
            "object_position": null,
            "order": null,
            "overflow": null,
            "overflow_x": null,
            "overflow_y": null,
            "padding": null,
            "right": null,
            "top": null,
            "visibility": null,
            "width": null
          }
        },
        "6e3f86cae8184881be87176a1c263359": {
          "model_module": "@jupyter-widgets/controls",
          "model_name": "SliderStyleModel",
          "model_module_version": "1.5.0",
          "state": {
            "_model_module": "@jupyter-widgets/controls",
            "_model_module_version": "1.5.0",
            "_model_name": "SliderStyleModel",
            "_view_count": null,
            "_view_module": "@jupyter-widgets/base",
            "_view_module_version": "1.2.0",
            "_view_name": "StyleView",
            "description_width": "",
            "handle_color": null
          }
        },
        "789b0cae004a47d1bddec2a5995ce4de": {
          "model_module": "@jupyter-widgets/base",
          "model_name": "LayoutModel",
          "model_module_version": "1.2.0",
          "state": {
            "_model_module": "@jupyter-widgets/base",
            "_model_module_version": "1.2.0",
            "_model_name": "LayoutModel",
            "_view_count": null,
            "_view_module": "@jupyter-widgets/base",
            "_view_module_version": "1.2.0",
            "_view_name": "LayoutView",
            "align_content": null,
            "align_items": null,
            "align_self": null,
            "border": null,
            "bottom": null,
            "display": null,
            "flex": null,
            "flex_flow": null,
            "grid_area": null,
            "grid_auto_columns": null,
            "grid_auto_flow": null,
            "grid_auto_rows": null,
            "grid_column": null,
            "grid_gap": null,
            "grid_row": null,
            "grid_template_areas": null,
            "grid_template_columns": null,
            "grid_template_rows": null,
            "height": null,
            "justify_content": null,
            "justify_items": null,
            "left": null,
            "margin": null,
            "max_height": null,
            "max_width": null,
            "min_height": null,
            "min_width": null,
            "object_fit": null,
            "object_position": null,
            "order": null,
            "overflow": null,
            "overflow_x": null,
            "overflow_y": null,
            "padding": null,
            "right": null,
            "top": null,
            "visibility": null,
            "width": null
          }
        }
      }
    }
  },
  "cells": [
    {
      "cell_type": "markdown",
      "source": [
        "## Torsional Response and Divergence for a Straight Wing"
      ],
      "metadata": {
        "id": "k6VSJlLere5I"
      }
    },
    {
      "cell_type": "code",
      "source": [
        "#importing necessary packages\n",
        "import numpy as np\n",
        "import matplotlib.pyplot as plt"
      ],
      "metadata": {
        "id": "0k8v6xjLrhQu"
      },
      "execution_count": null,
      "outputs": []
    },
    {
      "cell_type": "code",
      "source": [
        "#Parameters\n",
        "v = 1       #Free-Stream Speed\n",
        "L = 10\n",
        "N = 3     #Number of FEM elements\n",
        "alpha_r = 0\n",
        "le = L/N\n",
        "g = 9.81\n",
        "N_fac = 1\n",
        "\n",
        "\n",
        "def GJ_func(y):\n",
        "  return 1 + 0*y\n",
        "\n",
        "def e_func(y):\n",
        "  return 0.5 + 0*y\n",
        "\n",
        "def c_func(y):\n",
        "  return 1 + 0*y\n",
        "\n",
        "def CL_alpha_func(y):\n",
        "  return 1 + 0*y\n",
        "\n",
        "def Cm_AC_func(y):\n",
        "  return -0.1 + 0*y\n",
        "\n",
        "def m_func(y):\n",
        "  return 1 + 0*y\n",
        "\n",
        "def d_func(y):\n",
        "  return 0.2 + 0*y"
      ],
      "metadata": {
        "id": "0qD4avu8rkKJ"
      },
      "execution_count": null,
      "outputs": []
    },
    {
      "cell_type": "code",
      "source": [
        "def stiffness_matrix(v, elem_num):\n",
        "\n",
        "  #q = 0.5*1.225*(v**2)\n",
        "  #le = L/N\n",
        "\n",
        "  discrete_pts = 10\n",
        "  x_s = np.linspace(elem_num*le, (elem_num+1)*le, discrete_pts)\n",
        "\n",
        "  GJ = np.mean(GJ_func(x_s))\n",
        "  #e = np.mean(e_func(x_s))\n",
        "  #c = np.mean(c_func(x_s))\n",
        "  #CL_alpha = np.mean(CL_alpha_func(x_s))\n",
        "  #Cm_AC =  np.mean(Cm_AC_func(x_s))\n",
        "  #m = np.mean(m_func(x_s))\n",
        "  #d = np.mean(d_func(x_s))\n",
        "  #const = q*c*e*CL_alpha*alpha_r + q*(c**2)*Cm_AC - N*m*g*d\n",
        "\n",
        "  K_stiffness = (GJ/le)*np.array([[-1, 1], [1, -1]])\n",
        "\n",
        "  return K_stiffness"
      ],
      "metadata": {
        "id": "gJGgU61yudwZ"
      },
      "execution_count": null,
      "outputs": []
    },
    {
      "cell_type": "code",
      "source": [
        "def moment_matrix(v, elem_num):\n",
        "\n",
        "  q = 0.5*1.225*(v**2)\n",
        "  le = L/N\n",
        "\n",
        "  discrete_pts = 10\n",
        "  x_s = np.linspace(elem_num*le, (elem_num+1)*le, discrete_pts)\n",
        "\n",
        "  #GJ = np.mean(GJ_func(x_s))\n",
        "  e = np.mean(e_func(x_s))\n",
        "  c = np.mean(c_func(x_s))\n",
        "  CL_alpha = np.mean(CL_alpha_func(x_s))\n",
        "  #Cm_AC =  np.mean(Cm_AC_func(x_s))\n",
        "  #m = np.mean(m_func(x_s))\n",
        "  #d = np.mean(d_func(x_s))\n",
        "  #const = q*c*e*CL_alpha*alpha_r + q*(c**2)*Cm_AC - N*m*g*d\n",
        "\n",
        "  K_moment = q*e*c*CL_alpha*(le/3)*np.array([[1, 0.25], [0.25, 1]])\n",
        "\n",
        "  return K_moment"
      ],
      "metadata": {
        "id": "BekLuEuMwIlM"
      },
      "execution_count": null,
      "outputs": []
    },
    {
      "cell_type": "code",
      "source": [
        "def force_vector(v, elem_num):\n",
        "\n",
        "  q = 0.5*1.225*(v**2)\n",
        "  le = L/N\n",
        "\n",
        "  discrete_pts = 10\n",
        "  x_s = np.linspace(elem_num*le, (elem_num+1)*le, discrete_pts)\n",
        "\n",
        "  #GJ = np.mean(GJ_func(x_s))\n",
        "  e = np.mean(e_func(x_s))\n",
        "  c = np.mean(c_func(x_s))\n",
        "  CL_alpha = np.mean(CL_alpha_func(x_s))\n",
        "  Cm_AC =  np.mean(Cm_AC_func(x_s))\n",
        "  m = np.mean(m_func(x_s))\n",
        "  d = np.mean(d_func(x_s))\n",
        "  const = q*c*e*CL_alpha*alpha_r + q*(c**2)*Cm_AC - N_fac*m*g*d\n",
        "\n",
        "  force_vector = -const*le/2 * np.array([1, 1])\n",
        "\n",
        "  return force_vector"
      ],
      "metadata": {
        "id": "dG3bIb_Swnfx"
      },
      "execution_count": null,
      "outputs": []
    },
    {
      "cell_type": "code",
      "source": [
        "def global_matrices(v):\n",
        "\n",
        "    q = 0.5*1.225*(v**2)\n",
        "    le = L/N\n",
        "\n",
        "    Global_stiffness = np.zeros((N+1, N+1))\n",
        "\n",
        "    for i in range(N):\n",
        "      K_stiff = stiffness_matrix(v, i)\n",
        "      K_mom = moment_matrix(v, i)\n",
        "\n",
        "      K = K_stiff + K_mom\n",
        "\n",
        "      Global_stiffness[i:i+2,i:i+2] += K\n",
        "\n",
        "    Global_force = np.zeros((N+1,1))\n",
        "\n",
        "    for i in range(N):\n",
        "\n",
        "      Global_force[i:i+2,0] += force_vector(v, i)\n",
        "\n",
        "    return Global_stiffness, Global_force"
      ],
      "metadata": {
        "id": "VxeZS79myVrL"
      },
      "execution_count": null,
      "outputs": []
    },
    {
      "cell_type": "code",
      "source": [
        "def Model(v):\n",
        "\n",
        "  Global_A, Global_b = global_matrices(v)\n",
        "\n",
        "  #Imposing boundary conditions (theta at = 0)\n",
        "  A_solve = Global_A[1:, 1:]\n",
        "  b_solve = Global_b[1:, 0]\n",
        "\n",
        "  theta_solve = np.linalg.solve(A_solve, b_solve)\n",
        "  theta = np.zeros(N+1)\n",
        "  theta[1:] = theta_solve\n",
        "\n",
        "  x_s = np.arange(N+1)*le\n",
        "  plt.plot(x_s, theta)"
      ],
      "metadata": {
        "id": "kSwL-aXpygOp"
      },
      "execution_count": null,
      "outputs": []
    },
    {
      "cell_type": "code",
      "source": [
        "from ipywidgets import interact, interactive, fixed, interact_manual\n",
        "import ipywidgets as widgets"
      ],
      "metadata": {
        "id": "S-Xb0eFoyo8q"
      },
      "execution_count": null,
      "outputs": []
    },
    {
      "cell_type": "code",
      "source": [
        "interact(Model, v=(0,10), N=fixed(N),L=fixed(L))"
      ],
      "metadata": {
        "colab": {
          "base_uri": "https://localhost:8080/",
          "height": 430,
          "referenced_widgets": [
            "4898a689f55f4e139641f5fd3fa0d5e1",
            "9bd884f206764c638d8bcc1d631e89d6",
            "f50bfee35da04c56af4a5766f6b868de",
            "666ae133419e426eb98bf293556daa75",
            "0bedafabd79c4c12a0eebb96bded486f",
            "6e3f86cae8184881be87176a1c263359",
            "789b0cae004a47d1bddec2a5995ce4de"
          ]
        },
        "id": "qZjXBo6eypdg",
        "outputId": "a64a0475-5e41-41b6-9668-bd0a1bba22cd"
      },
      "execution_count": null,
      "outputs": [
        {
          "output_type": "display_data",
          "data": {
            "text/plain": [
              "<Figure size 640x480 with 1 Axes>"
            ],
            "image/png": "[encoded data removed]"
          },
          "metadata": {}
        }
      ]
    },
    {
      "cell_type": "code",
      "source": [
        "#For diveregence speed\n",
        "#Solve for det = 0\n",
        "\n",
        "def det_global(V):\n",
        "    Global_A, Global_b = global_matrices(V)\n",
        "\n",
        "    # Calculate the determinant of A\n",
        "    det_A = np.linalg.det(Global_A)\n",
        "\n",
        "    return det_A\n",
        "\n",
        "#Implementing the bisection method\n",
        "\n",
        "def divergence_speed_bisection(det, a, b, tol=1e-6, max_iter=1000):\n",
        "\n",
        "    # Check if the signs of the function at the endpoints are opposite\n",
        "    if det(a) * det(b) > 0:\n",
        "        print(\"Error: The function has the same sign at both endpoints.\")\n",
        "        return None\n",
        "\n",
        "    # Define the midpoint of the interval\n",
        "    c = (a + b) / 2\n",
        "\n",
        "    # Check if the interval is small enough or maximum iterations reached\n",
        "    if abs(b - a) < tol or max_iter == 0:\n",
        "        return c\n",
        "\n",
        "    # Recursive case: update the interval and call the function recursively\n",
        "    if det(c) * det(a) < 0:\n",
        "        return divergence_speed_bisection(det, a, c, tol, max_iter - 1)\n",
        "    else:\n",
        "        return divergence_speed_bisection(det, c, b, tol, max_iter - 1)"
      ],
      "metadata": {
        "id": "KgIvDSY4yuLu"
      },
      "execution_count": null,
      "outputs": []
    },
    {
      "cell_type": "code",
      "source": [
        "divergence_speed_bisection(det_global, 0, 1, tol=1e-6, max_iter=1000)"
      ],
      "metadata": {
        "colab": {
          "base_uri": "https://localhost:8080/"
        },
        "id": "DSob857hzaVW",
        "outputId": "e6f72134-f006-4b57-c9f3-918d337478b1"
      },
      "execution_count": null,
      "outputs": [
        {
          "output_type": "execute_result",
          "data": {
            "text/plain": [
              "0.6259684562683105"
            ]
          },
          "metadata": {},
          "execution_count": 46
        }
      ]
    },
    {
      "cell_type": "code",
      "source": [],
      "metadata": {
        "id": "D2kjsouhzdV2"
      },
      "execution_count": null,
      "outputs": []
    }
  ]
}