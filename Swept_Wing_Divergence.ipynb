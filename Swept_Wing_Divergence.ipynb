{
  "nbformat": 4,
  "nbformat_minor": 0,
  "metadata": {
    "colab": {
      "provenance": []
    },
    "kernelspec": {
      "name": "python3",
      "display_name": "Python 3"
    },
    "language_info": {
      "name": "python"
    },
    "widgets": {
      "application/vnd.jupyter.widget-state+json": {
        "4b61b752fbef4734af027921d619a9d4": {
          "model_module": "@jupyter-widgets/controls",
          "model_name": "VBoxModel",
          "model_module_version": "1.5.0",
          "state": {
            "_dom_classes": [
              "widget-interact"
            ],
            "_model_module": "@jupyter-widgets/controls",
            "_model_module_version": "1.5.0",
            "_model_name": "VBoxModel",
            "_view_count": null,
            "_view_module": "@jupyter-widgets/controls",
            "_view_module_version": "1.5.0",
            "_view_name": "VBoxView",
            "box_style": "",
            "children": [
              "IPY_MODEL_4e8e56e5aa96465dadfb666905a4d7a0",
              "IPY_MODEL_588f59a142dd4d76bd8c2cb611b594a8"
            ],
            "layout": "IPY_MODEL_0f4af8a1d3f441da8de3e7eacd9e77ac"
          }
        },
        "4e8e56e5aa96465dadfb666905a4d7a0": {
          "model_module": "@jupyter-widgets/controls",
          "model_name": "IntSliderModel",
          "model_module_version": "1.5.0",
          "state": {
            "_dom_classes": [],
            "_model_module": "@jupyter-widgets/controls",
            "_model_module_version": "1.5.0",
            "_model_name": "IntSliderModel",
            "_view_count": null,
            "_view_module": "@jupyter-widgets/controls",
            "_view_module_version": "1.5.0",
            "_view_name": "IntSliderView",
            "continuous_update": true,
            "description": "v",
            "description_tooltip": null,
            "disabled": false,
            "layout": "IPY_MODEL_33f10ae91eb74215b74eb32d9ae9b66f",
            "max": 10,
            "min": 0,
            "orientation": "horizontal",
            "readout": true,
            "readout_format": "d",
            "step": 1,
            "style": "IPY_MODEL_1c78f22c8c404d0fb12fb48831b2baaa",
            "value": 7
          }
        },
        "588f59a142dd4d76bd8c2cb611b594a8": {
          "model_module": "@jupyter-widgets/output",
          "model_name": "OutputModel",
          "model_module_version": "1.0.0",
          "state": {
            "_dom_classes": [],
            "_model_module": "@jupyter-widgets/output",
            "_model_module_version": "1.0.0",
            "_model_name": "OutputModel",
            "_view_count": null,
            "_view_module": "@jupyter-widgets/output",
            "_view_module_version": "1.0.0",
            "_view_name": "OutputView",
            "layout": "IPY_MODEL_ad244e7c44954c7d8c6d65efbdbe6267",
            "msg_id": "",
            "outputs": []
          }
        },
        "0f4af8a1d3f441da8de3e7eacd9e77ac": {
          "model_module": "@jupyter-widgets/base",
          "model_name": "LayoutModel",
          "model_module_version": "1.2.0",
          "state": {
            "_model_module": "@jupyter-widgets/base",
            "_model_module_version": "1.2.0",
            "_model_name": "LayoutModel",
            "_view_count": null,
            "_view_module": "@jupyter-widgets/base",
            "_view_module_version": "1.2.0",
            "_view_name": "LayoutView",
            "align_content": null,
            "align_items": null,
            "align_self": null,
            "border": null,
            "bottom": null,
            "display": null,
            "flex": null,
            "flex_flow": null,
            "grid_area": null,
            "grid_auto_columns": null,
            "grid_auto_flow": null,
            "grid_auto_rows": null,
            "grid_column": null,
            "grid_gap": null,
            "grid_row": null,
            "grid_template_areas": null,
            "grid_template_columns": null,
            "grid_template_rows": null,
            "height": null,
            "justify_content": null,
            "justify_items": null,
            "left": null,
            "margin": null,
            "max_height": null,
            "max_width": null,
            "min_height": null,
            "min_width": null,
            "object_fit": null,
            "object_position": null,
            "order": null,
            "overflow": null,
            "overflow_x": null,
            "overflow_y": null,
            "padding": null,
            "right": null,
            "top": null,
            "visibility": null,
            "width": null
          }
        },
        "33f10ae91eb74215b74eb32d9ae9b66f": {
          "model_module": "@jupyter-widgets/base",
          "model_name": "LayoutModel",
          "model_module_version": "1.2.0",
          "state": {
            "_model_module": "@jupyter-widgets/base",
            "_model_module_version": "1.2.0",
            "_model_name": "LayoutModel",
            "_view_count": null,
            "_view_module": "@jupyter-widgets/base",
            "_view_module_version": "1.2.0",
            "_view_name": "LayoutView",
            "align_content": null,
            "align_items": null,
            "align_self": null,
            "border": null,
            "bottom": null,
            "display": null,
            "flex": null,
            "flex_flow": null,
            "grid_area": null,
            "grid_auto_columns": null,
            "grid_auto_flow": null,
            "grid_auto_rows": null,
            "grid_column": null,
            "grid_gap": null,
            "grid_row": null,
            "grid_template_areas": null,
            "grid_template_columns": null,
            "grid_template_rows": null,
            "height": null,
            "justify_content": null,
            "justify_items": null,
            "left": null,
            "margin": null,
            "max_height": null,
            "max_width": null,
            "min_height": null,
            "min_width": null,
            "object_fit": null,
            "object_position": null,
            "order": null,
            "overflow": null,
            "overflow_x": null,
            "overflow_y": null,
            "padding": null,
            "right": null,
            "top": null,
            "visibility": null,
            "width": null
          }
        },
        "1c78f22c8c404d0fb12fb48831b2baaa": {
          "model_module": "@jupyter-widgets/controls",
          "model_name": "SliderStyleModel",
          "model_module_version": "1.5.0",
          "state": {
            "_model_module": "@jupyter-widgets/controls",
            "_model_module_version": "1.5.0",
            "_model_name": "SliderStyleModel",
            "_view_count": null,
            "_view_module": "@jupyter-widgets/base",
            "_view_module_version": "1.2.0",
            "_view_name": "StyleView",
            "description_width": "",
            "handle_color": null
          }
        },
        "ad244e7c44954c7d8c6d65efbdbe6267": {
          "model_module": "@jupyter-widgets/base",
          "model_name": "LayoutModel",
          "model_module_version": "1.2.0",
          "state": {
            "_model_module": "@jupyter-widgets/base",
            "_model_module_version": "1.2.0",
            "_model_name": "LayoutModel",
            "_view_count": null,
            "_view_module": "@jupyter-widgets/base",
            "_view_module_version": "1.2.0",
            "_view_name": "LayoutView",
            "align_content": null,
            "align_items": null,
            "align_self": null,
            "border": null,
            "bottom": null,
            "display": null,
            "flex": null,
            "flex_flow": null,
            "grid_area": null,
            "grid_auto_columns": null,
            "grid_auto_flow": null,
            "grid_auto_rows": null,
            "grid_column": null,
            "grid_gap": null,
            "grid_row": null,
            "grid_template_areas": null,
            "grid_template_columns": null,
            "grid_template_rows": null,
            "height": null,
            "justify_content": null,
            "justify_items": null,
            "left": null,
            "margin": null,
            "max_height": null,
            "max_width": null,
            "min_height": null,
            "min_width": null,
            "object_fit": null,
            "object_position": null,
            "order": null,
            "overflow": null,
            "overflow_x": null,
            "overflow_y": null,
            "padding": null,
            "right": null,
            "top": null,
            "visibility": null,
            "width": null
          }
        }
      }
    }
  },
  "cells": [
    {
      "cell_type": "markdown",
      "source": [
        "## Swept Wing Divergence"
      ],
      "metadata": {
        "id": "k6VSJlLere5I"
      }
    },
    {
      "cell_type": "code",
      "source": [
        "#importing necessary packages\n",
        "import numpy as np\n",
        "import matplotlib.pyplot as plt"
      ],
      "metadata": {
        "id": "0k8v6xjLrhQu"
      },
      "execution_count": 46,
      "outputs": []
    },
    {
      "cell_type": "code",
      "source": [
        "#We have considered the FEM analysis to be along the spanwise direction\n",
        "#but we took a streamwise segment for the analysis\n",
        "\n",
        "#Parameters\n",
        "v = 1       #Free-Stream Speed\n",
        "L = 17.6784\n",
        "N = 3    #Number of FEM elements\n",
        "sweep_angle = 34*np.pi/180\n",
        "alpha_r = 0\n",
        "le = L/N\n",
        "le_bar = le/np.cos(sweep_angle)\n",
        "g = 9.81\n",
        "N_fac = 3\n",
        "EI_tip = 2.0479e6\n",
        "EI_root = 46.8516e6\n",
        "GJ_tip = 1.7573e6\n",
        "GJ_root = 29.2932e6\n",
        "k_root = 0\n",
        "k_tip = 0\n",
        "chord_tip = 2.444\n",
        "chord_root = 5.2857\n",
        "e_tip = 0.3175\n",
        "e_root = 0.68707\n",
        "m_tip = 224.3316\n",
        "m_root = 775.9280\n",
        "ebar_prime = (e_tip - e_root) /L *np.cos(sweep_angle)\n",
        "cbar_prime = (chord_tip - chord_root) /L *np.cos(sweep_angle)\n",
        "mbar_prime = (m_tip - m_root) /L *np.cos(sweep_angle)\n",
        "dbar_prime = 0.4*ebar_prime\n",
        "\n",
        "def EI_func(y):\n",
        "  return EI_root + (EI_tip  - EI_root) * (y/L)\n",
        "\n",
        "def GJ_func(y):\n",
        "  return GJ_root + (GJ_tip  - GJ_root) * (y/L)\n",
        "\n",
        "def k_func(y):\n",
        "  return k_root + (k_tip  - k_root) * (y/L)\n",
        "\n",
        "def c_func(y):\n",
        "  return chord_root + (chord_tip  - chord_root) * (y/L)\n",
        "\n",
        "def e_func(y):\n",
        "  return e_root + (e_tip  - e_root) * (y/L)\n",
        "\n",
        "def CL_alpha_func(y):\n",
        "  return 6 + 0*y\n",
        "\n",
        "def Cm_AC_func(y):\n",
        "  return -0.01 + 0*y\n",
        "\n",
        "def m_func(y):\n",
        "  return m_root + (m_tip  - m_root) * (y/L)\n",
        "\n",
        "def d_func(y):\n",
        "  return 0.4*e_func(y)"
      ],
      "metadata": {
        "id": "0qD4avu8rkKJ"
      },
      "execution_count": 47,
      "outputs": []
    },
    {
      "cell_type": "code",
      "source": [
        "def stiffness_matrix(v, elem_num):\n",
        "\n",
        "  #q = 0.5*1.225*(v**2)\n",
        "\n",
        "  discrete_pts = 10\n",
        "  y_s = np.linspace(elem_num*le, (elem_num+1)*le, discrete_pts)\n",
        "\n",
        "  EI = np.mean(EI_func(y_s))\n",
        "  GJ = np.mean(GJ_func(y_s))\n",
        "  k = np.mean(k_func(y_s))\n",
        "  #e = np.mean(e_func(x_s))\n",
        "  #c = np.mean(c_func(x_s))\n",
        "  #CL_alpha = np.mean(CL_alpha_func(x_s))\n",
        "  #Cm_AC =  np.mean(Cm_AC_func(x_s))\n",
        "  #m = np.mean(m_func(x_s))\n",
        "  #d = np.mean(d_func(x_s))\n",
        "  #const = q*c*e*CL_alpha*alpha_r + q*(c**2)*Cm_AC - N*m*g*d\n",
        "\n",
        "  K_elem = np.zeros((6,6))\n",
        "\n",
        "  K_elem[:4,:4] = (EI/(le_bar**3))*np.array([\n",
        "      [12, 6*le_bar, -12, 6*le_bar],\n",
        "      [6*le_bar, 4*(le_bar**2), -6*le_bar, 2*(le_bar**2)],\n",
        "      [-12, -6*le_bar, 12, -6*le_bar],\n",
        "      [6*le_bar, 2*(le_bar**2), -6*le_bar, 4*(le_bar**2)]\n",
        "  ])\n",
        "\n",
        "  K_elem[:4, 4:6] = k/(le_bar)*np.array([\n",
        "      [0, 0],\n",
        "      [-1, 1],\n",
        "      [0, 0],\n",
        "      [1, -1]\n",
        "  ])\n",
        "\n",
        "  K_elem[4:6, :4] = np.transpose(K_elem[:4, 4:6])\n",
        "\n",
        "  K_elem[4:6, 4:6] = (GJ/le_bar)*np.array([\n",
        "      [1, -1],\n",
        "      [1, -1]\n",
        "  ])\n",
        "\n",
        "  return K_elem"
      ],
      "metadata": {
        "id": "gJGgU61yudwZ"
      },
      "execution_count": 48,
      "outputs": []
    },
    {
      "cell_type": "code",
      "source": [
        "def bending_matrix(v, elem_num):\n",
        "\n",
        "  q = 0.5*1.225*(v**2)\n",
        "\n",
        "  discrete_pts = 10\n",
        "  x_s = np.linspace(elem_num*le, (elem_num+1)*le, discrete_pts)\n",
        "\n",
        "  #EI = np.mean(EI_func(y_s))\n",
        "  #GJ = np.mean(GJ_func(y_s))\n",
        "  #k = np.mean(k_func(y_s))\n",
        "  e = np.mean(e_func(x_s))\n",
        "  c = np.mean(c_func(x_s))\n",
        "  CL_alpha = np.mean(CL_alpha_func(x_s))\n",
        "  #Cm_AC =  np.mean(Cm_AC_func(x_s))\n",
        "  #m = np.mean(m_func(x_s))\n",
        "  #d = np.mean(d_func(x_s))\n",
        "  #const = q*c*e*CL_alpha*alpha_r + q*(c**2)*Cm_AC - N*m*g*d\n",
        "\n",
        "  mat_1 = q*c*CL_alpha*le_bar*np.array([\n",
        "      [7/20, 3/4],\n",
        "      [le_bar/20, le_bar/30],\n",
        "      [3/20, -7/20],\n",
        "      [7*le_bar/30, -le_bar/20]\n",
        "  ])\n",
        "\n",
        "  mat_2 = q*e*c*CL_alpha*np.sin(sweep_angle)*np.array([\n",
        "      [-1/2, 1/2],\n",
        "      [-le_bar/12, le_bar/12],\n",
        "      [-1/2, 1/2],\n",
        "      [le_bar/12, -le_bar/12]\n",
        "  ])\n",
        "\n",
        "  return -(mat_1 + mat_2)*np.cos(sweep_angle)"
      ],
      "metadata": {
        "id": "BekLuEuMwIlM"
      },
      "execution_count": 49,
      "outputs": []
    },
    {
      "cell_type": "code",
      "source": [
        "def moment_matrix(v, elem_num):\n",
        "\n",
        "  q = 0.5*1.225*(v**2)\n",
        "\n",
        "  discrete_pts = 10\n",
        "  x_s = np.linspace(elem_num*le, (elem_num+1)*le, discrete_pts)\n",
        "\n",
        "  #EI = np.mean(EI_func(y_s))\n",
        "  #GJ = np.mean(GJ_func(y_s))\n",
        "  #k = np.mean(k_func(y_s))\n",
        "  e = np.mean(e_func(x_s))\n",
        "  c = np.mean(c_func(x_s))\n",
        "  CL_alpha = np.mean(CL_alpha_func(x_s))\n",
        "  #Cm_AC =  np.mean(Cm_AC_func(x_s))\n",
        "  #m = np.mean(m_func(x_s))\n",
        "  #d = np.mean(d_func(x_s))\n",
        "  #const = q*c*e*CL_alpha*alpha_r + q*(c**2)*Cm_AC - N*m*g*d\n",
        "\n",
        "  mat = q*e*c*CL_alpha*le_bar*((np.cos(sweep_angle))**2)*np.array([\n",
        "      [1/3, 1/6],\n",
        "      [1/6, 1/3]\n",
        "  ])\n",
        "\n",
        "  return mat"
      ],
      "metadata": {
        "id": "PtFEUMEbH2hW"
      },
      "execution_count": 50,
      "outputs": []
    },
    {
      "cell_type": "code",
      "source": [
        "def const_vector(v, elem_num):\n",
        "\n",
        "  q = 0.5*1.225*(v**2)\n",
        "\n",
        "  discrete_pts = 10\n",
        "  x_s = np.linspace(elem_num*le, (elem_num+1)*le, discrete_pts)\n",
        "\n",
        "  #EI = np.mean(EI_func(y_s))\n",
        "  #GJ = np.mean(GJ_func(y_s))\n",
        "  #k = np.mean(k_func(y_s))\n",
        "  e = np.mean(e_func(x_s))\n",
        "  c = np.mean(c_func(x_s))\n",
        "  CL_alpha = np.mean(CL_alpha_func(x_s))\n",
        "  Cm_AC =  np.mean(Cm_AC_func(x_s))\n",
        "  m = np.mean(m_func(x_s))\n",
        "  d = np.mean(d_func(x_s))\n",
        "  const = q*c*e*CL_alpha*alpha_r + q*(c**2)*Cm_AC - N*m*g*d\n",
        "\n",
        "  from_bending = (q*c*CL_alpha*alpha_r - m*N*g + (q*ebar_prime*c*CL_alpha*alpha_r + q*e*cbar_prime*CL_alpha*alpha_r + 2*q*c*cbar_prime*Cm_AC - mbar_prime*N*g*d - m*N*g*dbar_prime)*np.sin(sweep_angle))*np.cos(sweep_angle)*np.array([\n",
        "    -le_bar/2,\n",
        "    le_bar**2/12,\n",
        "    le_bar/2,\n",
        "    -le_bar**2/12\n",
        "  ])\n",
        "\n",
        "  from_moment = -(q*e*c*CL_alpha*alpha_r + q*(c**2)*Cm_AC - m*N*g*d) *np.cos(sweep_angle)*np.array([\n",
        "      0.5,\n",
        "      0.5\n",
        "  ])\n",
        "\n",
        "  const_vector = np.zeros(6)\n",
        "  const_vector[:4] = from_bending\n",
        "  const_vector[4:6] = from_moment\n",
        "\n",
        "  return const_vector"
      ],
      "metadata": {
        "id": "dG3bIb_Swnfx"
      },
      "execution_count": 51,
      "outputs": []
    },
    {
      "cell_type": "code",
      "source": [
        "def global_matrices(v):\n",
        "\n",
        "    q = 0.5*1.225*(v**2)\n",
        "    le = L/N\n",
        "\n",
        "    Global_stiffness = np.zeros((3*(N+1), 3*(N+1)))\n",
        "\n",
        "    for i in range(N):\n",
        "\n",
        "      K_stiff_for_FEM = stiffness_matrix(v, i)[:, [0, 1, 4, 2, 3, 5]]\n",
        "      K_bending = bending_matrix(v, i)\n",
        "      K_moment = moment_matrix(v, i)\n",
        "\n",
        "      K_elem = K_stiff_for_FEM\n",
        "      K_elem[:4, 2] += K_bending[:,0]\n",
        "      K_elem[:4, 5] += K_bending[:,1]\n",
        "      K_elem[4:6, 2] += K_moment[:,0]\n",
        "      K_elem[4:6, 5] += K_moment[:,1]\n",
        "\n",
        "      Global_stiffness[3*i:3*(i+2),3*i:3*(i+2)] += K_elem\n",
        "\n",
        "    Global_const = np.zeros((3*(N+1),1))\n",
        "\n",
        "    for i in range(N):\n",
        "\n",
        "      Global_const[3*i:3*(i+2),0] += const_vector(v, i)\n",
        "\n",
        "    return Global_stiffness, Global_const"
      ],
      "metadata": {
        "id": "VxeZS79myVrL"
      },
      "execution_count": 52,
      "outputs": []
    },
    {
      "cell_type": "code",
      "source": [
        "def Model(v):\n",
        "\n",
        "  Global_A, Global_b = global_matrices(v)\n",
        "\n",
        "  #print(Global_A)\n",
        "\n",
        "  #Imposing boundary conditions (theta at = 0)\n",
        "  A_solve = Global_A[3:, 3:]\n",
        "  b_solve = Global_b[3:, 0]\n",
        "\n",
        "  solution = np.linalg.solve(A_solve, b_solve)\n",
        "  h = np.zeros(N+1)\n",
        "  h_prime = np.zeros(N+1)\n",
        "  theta = np.zeros(N+1)\n",
        "\n",
        "  h[1:] = solution[0::3]\n",
        "  h_prime[1:] = solution[1::3]\n",
        "  theta[1:] = solution[2::3]\n",
        "\n",
        "  ybars = np.arange(N+1)*le_bar\n",
        "  plt.plot(ybars, theta)"
      ],
      "metadata": {
        "id": "kSwL-aXpygOp"
      },
      "execution_count": 53,
      "outputs": []
    },
    {
      "cell_type": "code",
      "source": [
        "from ipywidgets import interact, interactive, fixed, interact_manual\n",
        "import ipywidgets as widgets"
      ],
      "metadata": {
        "id": "S-Xb0eFoyo8q"
      },
      "execution_count": 54,
      "outputs": []
    },
    {
      "cell_type": "code",
      "source": [
        "interact(Model, v=(0,10), N=fixed(N),L=fixed(L))"
      ],
      "metadata": {
        "colab": {
          "base_uri": "https://localhost:8080/",
          "height": 430,
          "referenced_widgets": [
            "4b61b752fbef4734af027921d619a9d4",
            "4e8e56e5aa96465dadfb666905a4d7a0",
            "588f59a142dd4d76bd8c2cb611b594a8",
            "0f4af8a1d3f441da8de3e7eacd9e77ac",
            "33f10ae91eb74215b74eb32d9ae9b66f",
            "1c78f22c8c404d0fb12fb48831b2baaa",
            "ad244e7c44954c7d8c6d65efbdbe6267"
          ]
        },
        "id": "qZjXBo6eypdg",
        "outputId": "f847a96f-c1ef-4d8a-8aa8-d0315edbd358"
      },
      "execution_count": 55,
      "outputs": [
        {
          "output_type": "display_data",
          "data": {
            "text/plain": [
              "<Figure size 640x480 with 1 Axes>"
            ],
            "image/png": "[encoded data removed]"
          },
          "metadata": {}
        }
      ]
    },
    {
      "cell_type": "code",
      "source": [
        "#For diveregence speed\n",
        "#Solve for det = 0\n",
        "\n",
        "def det_global(V):\n",
        "    Global_A, Global_b = global_matrices(V)\n",
        "\n",
        "    # Calculate the determinant of A\n",
        "    det_A = np.linalg.det(Global_A)\n",
        "\n",
        "    return det_A\n",
        "\n",
        "#Implementing the bisection method\n",
        "\n",
        "def divergence_speed_bisection(det, a, b, tol=1e-6, max_iter=1000):\n",
        "\n",
        "    # Check if the signs of the function at the endpoints are opposite\n",
        "    if det(a) * det(b) > 0:\n",
        "        print(\"Error: The function has the same sign at both endpoints.\")\n",
        "        return None\n",
        "\n",
        "    # Define the midpoint of the interval\n",
        "    c = (a + b) / 2\n",
        "\n",
        "    # Check if the interval is small enough or maximum iterations reached\n",
        "    if abs(b - a) < tol or max_iter == 0:\n",
        "        return c\n",
        "\n",
        "    # Recursive case: update the interval and call the function recursively\n",
        "    if det(c) * det(a) < 0:\n",
        "        return divergence_speed_bisection(det, a, c, tol, max_iter - 1)\n",
        "    else:\n",
        "        return divergence_speed_bisection(det, c, b, tol, max_iter - 1)"
      ],
      "metadata": {
        "id": "KgIvDSY4yuLu"
      },
      "execution_count": 56,
      "outputs": []
    },
    {
      "cell_type": "code",
      "source": [
        "divergence_speed_bisection(det_global, 0, 0.3, tol=1e-6, max_iter=1000)"
      ],
      "metadata": {
        "colab": {
          "base_uri": "https://localhost:8080/"
        },
        "id": "DSob857hzaVW",
        "outputId": "96a8fcc0-5b06-4680-8f7d-8ce7afe1ed56"
      },
      "execution_count": 58,
      "outputs": [
        {
          "output_type": "stream",
          "name": "stdout",
          "text": [
            "Error: The function has the same sign at both endpoints.\n"
          ]
        }
      ]
    },
    {
      "cell_type": "code",
      "source": [],
      "metadata": {
        "id": "D2kjsouhzdV2"
      },
      "execution_count": 58,
      "outputs": []
    }
  ]
}